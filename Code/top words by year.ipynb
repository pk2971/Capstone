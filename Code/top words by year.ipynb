{
 "cells": [
  {
   "cell_type": "code",
   "execution_count": null,
   "id": "9ca63227",
   "metadata": {},
   "outputs": [],
   "source": [
    "import os\n",
    "import pandas as pd\n",
    "from sklearn.feature_extraction.text import TfidfVectorizer\n",
    "import matplotlib.pyplot as plt\n",
    "from collections import Counter\n",
    "from nltk.corpus import stopwords\n",
    "from concurrent.futures import ThreadPoolExecutor\n",
    "import nltk\n",
    "\n",
    "nltk.download('stopwords')\n",
    "\n",
    "\n",
    "stop_words = set(stopwords.words('english'))\n",
    "\n",
    "# Specify the directory containing your files\n",
    "directory = '/Users/praharshita/Desktop/Capstone/cleaned_files_by_year'\n",
    "\n",
    "# List of words to be excluded\n",
    "exclude_words = ['hon', 'lord', 'said', \"'s\", 'would', 'could', 'house', 'mr', 'government', 'state', 'noble',\n",
    "                 'secretary', 'people', \"''\", 'upon', 'whether', 'made', 'many', 'make', 'ask', 'one', 'may', \"mr.\"]\n",
    "exclude_words.extend(stop_words)\n",
    "\n",
    "# Initialize an empty DataFrame to store results\n",
    "df_results = pd.DataFrame(columns=['Year', 'Top Words'])\n",
    "\n",
    "def process_file(filename):\n",
    "    # Initialize a Counter to store word counts\n",
    "    word_counts = Counter()\n",
    "\n",
    "    # Read the content of the file\n",
    "    file_path = os.path.join(directory, filename)\n",
    "    with open(file_path, 'r', encoding='utf-8') as file:\n",
    "        print(file_path)\n",
    "        content = file.read()\n",
    "\n",
    "    # Tokenize and apply any necessary preprocessing\n",
    "    # You can add more preprocessing steps based on your specific needs\n",
    "    tokens = content.lower().split()\n",
    "\n",
    "    # Exclude specified words\n",
    "    tokens = [token for token in tokens if token not in exclude_words]\n",
    "\n",
    "    # Update word counts for the current year\n",
    "    word_counts.update(tokens)\n",
    "\n",
    "    # Get the top 5 words for the current year\n",
    "    top_words_year = [word for word, count in word_counts.most_common(10)]\n",
    "\n",
    "    return {'Year': filename[:-4], 'Top Words': top_words_year}\n",
    "\n",
    "# Use ThreadPoolExecutor to parallelize file processing\n",
    "with ThreadPoolExecutor() as executor:\n",
    "    # Iterate through files in the directory\n",
    "    results = list(executor.map(process_file, [filename for filename in os.listdir(directory) if filename.endswith('.txt')]))\n",
    "\n",
    "# Append the results to the DataFrame\n",
    "df_results = df_results.append(results, ignore_index=True)\n",
    "df_results.to_csv('/Users/praharshita/Desktop/Capstone/results/top_words_woman_results.csv', index=False)\n",
    "\n",
    "# Print the results\n",
    "#print(df_results)\n"
   ]
  },
  {
   "cell_type": "code",
   "execution_count": null,
   "id": "956ba1dd",
   "metadata": {},
   "outputs": [],
   "source": [
    "df_results = df_results.sort_values(by='Year')\n",
    "df_results.to_csv('//Users/praharshita/Desktop/Capstone/results/top_words_results.csv', index=False)\n"
   ]
  }
 ],
 "metadata": {
  "kernelspec": {
   "display_name": "Python 3 (ipykernel)",
   "language": "python",
   "name": "python3"
  },
  "language_info": {
   "codemirror_mode": {
    "name": "ipython",
    "version": 3
   },
   "file_extension": ".py",
   "mimetype": "text/x-python",
   "name": "python",
   "nbconvert_exporter": "python",
   "pygments_lexer": "ipython3",
   "version": "3.9.12"
  }
 },
 "nbformat": 4,
 "nbformat_minor": 5
}
