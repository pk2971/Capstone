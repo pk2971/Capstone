{
  "cells": [
    {
      "cell_type": "markdown",
      "metadata": {
        "id": "view-in-github",
        "colab_type": "text"
      },
      "source": [
        "<a href=\"https://colab.research.google.com/github/pk2971/Capstone/blob/main/Code/Text_summarization.ipynb\" target=\"_parent\"><img src=\"https://colab.research.google.com/assets/colab-badge.svg\" alt=\"Open In Colab\"/></a>"
      ]
    },
    {
      "cell_type": "code",
      "source": [
        "import torch\n",
        "import sentencepiece\n",
        "from transformers import T5Tokenizer, T5ForConditionalGeneration\n",
        "from torch.utils.data import DataLoader, Dataset\n",
        "from torch.utils.data import Dataset  # Import the Dataset class\n",
        "from tqdm import tqdm"
      ],
      "metadata": {
        "id": "i5IkhRiPmoZb"
      },
      "id": "i5IkhRiPmoZb",
      "execution_count": 60,
      "outputs": []
    },
    {
      "cell_type": "code",
      "source": [
        "import re\n",
        "keywords_to_match = ['she', 'her', 'hers', 'lady', 'ladies', 'woman', 'women', 'girl', 'girls']\n",
        "\n",
        "def extract_sentences_with_keywords(text, keywords):\n",
        "    sentences = re.split(r'(?<!\\w\\.\\w.)(?<![A-Z][a-z]\\.)(?<=\\.|\\?)\\s', text)\n",
        "\n",
        "    filtered_sentences = [\n",
        "        sentence for sentence in sentences\n",
        "        if any(re.search(rf'\\b{re.escape(keyword)}\\b', sentence, re.IGNORECASE) for keyword in keywords)\n",
        "    ]\n",
        "\n",
        "    return '\\n'.join(filtered_sentences)\n"
      ],
      "metadata": {
        "id": "nf39FyzkV6MO"
      },
      "id": "nf39FyzkV6MO",
      "execution_count": 61,
      "outputs": []
    },
    {
      "cell_type": "code",
      "source": [
        "from transformers import BartForConditionalGeneration, BartTokenizer\n",
        "\n",
        "model_name = \"facebook/bart-large-cnn\"  # You can choose a different BART variant\n",
        "tokenizer = BartTokenizer.from_pretrained(model_name)\n",
        "model = BartForConditionalGeneration.from_pretrained(model_name)\n",
        "\n",
        "\n",
        "file_path = '/content/1927.txt'\n",
        "# Example text\n",
        "with open(file_path, 'r', encoding='utf-8') as file:\n",
        "    content = file.read()\n",
        "filtered_sentences=extract_sentences_with_keywords(content, keywords_to_match)\n",
        "\n",
        "input_ids = tokenizer.encode(filtered_sentences, return_tensors=\"pt\", max_length=1024, truncation=True)\n",
        "summary_ids = model.generate(input_ids, max_length=10000, num_beams=10, length_penalty=2.5,num_return_sequences=3, early_stopping=True)\n",
        "\n",
        "summary = tokenizer.decode(summary_ids[0], skip_special_tokens=True)\n",
        "print(\"Generated Summary:\", summary)"
      ],
      "metadata": {
        "colab": {
          "base_uri": "https://localhost:8080/"
        },
        "id": "ED72icFfBAd5",
        "outputId": "01deb21a-e520-4586-f90b-a143beb07ccf"
      },
      "id": "ED72icFfBAd5",
      "execution_count": 63,
      "outputs": [
        {
          "output_type": "stream",
          "name": "stdout",
          "text": [
            "Generated Summary: Lords absence noble friend Lord Peel beg move Motion stands name upon Paper Lords Lord Chancellor. Lord Harris moved Motion refer Bill Select Committee still deeply impressed arguments going repeat arguments length gist first place noble Lord brought forward example hasty legislation popularly known as People's Budget 1909 Lordships well aware agriculture country flourishing condition might one reasons Lord Harris adduced fact operation Budget.\n"
          ]
        }
      ]
    },
    {
      "cell_type": "code",
      "source": [
        "len(filtered_sentences)/len(content)"
      ],
      "metadata": {
        "colab": {
          "base_uri": "https://localhost:8080/"
        },
        "id": "D7ciY0YgYtoS",
        "outputId": "9f011208-c41e-4e65-bb80-ba3769d42ca5"
      },
      "id": "D7ciY0YgYtoS",
      "execution_count": 69,
      "outputs": [
        {
          "output_type": "execute_result",
          "data": {
            "text/plain": [
              "0.4184785268210573"
            ]
          },
          "metadata": {},
          "execution_count": 69
        }
      ]
    },
    {
      "cell_type": "code",
      "source": [
        "clean_summary = summary.strip()\n"
      ],
      "metadata": {
        "id": "o9bLkc7Olqsu"
      },
      "id": "o9bLkc7Olqsu",
      "execution_count": 65,
      "outputs": []
    },
    {
      "cell_type": "code",
      "source": [
        "print(clean_summary)"
      ],
      "metadata": {
        "colab": {
          "base_uri": "https://localhost:8080/"
        },
        "id": "GS0Ta51FmL9E",
        "outputId": "a2611475-9c53-48fe-c1d1-03f3afd5662a"
      },
      "id": "GS0Ta51FmL9E",
      "execution_count": 66,
      "outputs": [
        {
          "output_type": "stream",
          "name": "stdout",
          "text": [
            "Lords absence noble friend Lord Peel beg move Motion stands name upon Paper Lords Lord Chancellor. Lord Harris moved Motion refer Bill Select Committee still deeply impressed arguments going repeat arguments length gist first place noble Lord brought forward example hasty legislation popularly known as People's Budget 1909 Lordships well aware agriculture country flourishing condition might one reasons Lord Harris adduced fact operation Budget.\n"
          ]
        }
      ]
    },
    {
      "cell_type": "code",
      "source": [
        "with open(\"/content/output_summary_before_suffrage_year(woman).txt\", \"w\", encoding=\"utf-8\") as output_file:\n",
        "    output_file.write(clean_summary)\n",
        "\n",
        "print(\"Summary saved to output_summary.txt\")"
      ],
      "metadata": {
        "colab": {
          "base_uri": "https://localhost:8080/"
        },
        "id": "Snybai6-MvLb",
        "outputId": "4f16abcd-b6f9-4716-c772-fc6796f83c54"
      },
      "id": "Snybai6-MvLb",
      "execution_count": 64,
      "outputs": [
        {
          "output_type": "stream",
          "name": "stdout",
          "text": [
            "Summary saved to output_summary.txt\n"
          ]
        }
      ]
    },
    {
      "cell_type": "code",
      "source": [],
      "metadata": {
        "id": "EqQRx9zTfzGS"
      },
      "id": "EqQRx9zTfzGS",
      "execution_count": null,
      "outputs": []
    }
  ],
  "metadata": {
    "kernelspec": {
      "display_name": "Python 3",
      "name": "python3"
    },
    "language_info": {
      "codemirror_mode": {
        "name": "ipython",
        "version": 3
      },
      "file_extension": ".py",
      "mimetype": "text/x-python",
      "name": "python",
      "nbconvert_exporter": "python",
      "pygments_lexer": "ipython3",
      "version": "3.9.12"
    },
    "colab": {
      "provenance": [],
      "gpuType": "T4",
      "include_colab_link": true
    },
    "accelerator": "GPU"
  },
  "nbformat": 4,
  "nbformat_minor": 5
}