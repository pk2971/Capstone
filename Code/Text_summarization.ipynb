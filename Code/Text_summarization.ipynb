{
  "nbformat": 4,
  "nbformat_minor": 0,
  "metadata": {
    "colab": {
      "provenance": [],
      "gpuType": "T4",
      "authorship_tag": "ABX9TyMdSoNc1QG2GXNM6xZspIxP",
      "include_colab_link": true
    },
    "kernelspec": {
      "name": "python3",
      "display_name": "Python 3"
    },
    "language_info": {
      "name": "python"
    },
    "accelerator": "GPU"
  },
  "cells": [
    {
      "cell_type": "markdown",
      "metadata": {
        "id": "view-in-github",
        "colab_type": "text"
      },
      "source": [
        "<a href=\"https://colab.research.google.com/github/pk2971/Capstone/blob/main/Code/Text_summarization.ipynb\" target=\"_parent\"><img src=\"https://colab.research.google.com/assets/colab-badge.svg\" alt=\"Open In Colab\"/></a>"
      ]
    },
    {
      "cell_type": "code",
      "source": [
        "import re\n",
        "file_path = '/content/1929.txt'\n",
        "with open(file_path, 'r', encoding='utf-8') as file:\n",
        "    content = file.read()\n"
      ],
      "metadata": {
        "id": "33qGhUQIerGN"
      },
      "execution_count": 46,
      "outputs": []
    },
    {
      "cell_type": "code",
      "source": [
        "import torch\n",
        "from transformers import T5Tokenizer, T5ForConditionalGeneration\n",
        "from torch.utils.data import DataLoader, Dataset\n",
        "from torch.utils.data import Dataset  # Import the Dataset class\n",
        "from tqdm import tqdm"
      ],
      "metadata": {
        "id": "G3_1-upQ037I"
      },
      "execution_count": 47,
      "outputs": []
    },
    {
      "cell_type": "code",
      "source": [
        "keywords_to_match = ['she', 'her', 'hers', 'lady', 'ladies', 'woman', 'women', 'girl', 'girls']"
      ],
      "metadata": {
        "id": "U9zm_ml0zNrX"
      },
      "execution_count": 48,
      "outputs": []
    },
    {
      "cell_type": "code",
      "source": [
        "def extract_sentences_with_keywords(text, keywords):\n",
        "    sentences = re.split(r'(?<!\\w\\.\\w.)(?<![A-Z][a-z]\\.)(?<=\\.|\\?)\\s', text)\n",
        "\n",
        "    filtered_sentences = [\n",
        "        sentence for sentence in sentences\n",
        "        if any(re.search(rf'\\b{re.escape(keyword)}\\b', sentence, re.IGNORECASE) for keyword in keywords)\n",
        "    ]\n",
        "\n",
        "    return '\\n'.join(filtered_sentences)\n"
      ],
      "metadata": {
        "id": "sK2IU2RQzV-E"
      },
      "execution_count": 49,
      "outputs": []
    },
    {
      "cell_type": "code",
      "source": [
        "from transformers import BartForConditionalGeneration, BartTokenizer\n",
        "\n",
        "model_name = \"facebook/bart-large-cnn\"  # You can choose a different BART variant\n",
        "tokenizer = BartTokenizer.from_pretrained(model_name)\n",
        "model = BartForConditionalGeneration.from_pretrained(model_name)\n",
        "\n",
        "\n",
        "filtered_sentences=extract_sentences_with_keywords(content, keywords_to_match)\n",
        "\n",
        "paragraphs = re.split(r'\\n\\n', filtered_sentences)\n",
        "\n",
        "unique_paragraphs = set()\n",
        "\n",
        "all_summaries=\"\"\n",
        "# Iterate through the paragraphs and add them to the set\n",
        "for paragraph in paragraphs:\n",
        "    # Remove leading and trailing whitespaces for better comparison\n",
        "    cleaned_paragraph = paragraph.strip()\n",
        "\n",
        "    # Check if the paragraph is not empty\n",
        "    if cleaned_paragraph:\n",
        "        unique_paragraphs.add(cleaned_paragraph)\n",
        "\n",
        "for part in unique_paragraphs:\n",
        "\n",
        "  input_ids = tokenizer.encode(part, return_tensors=\"pt\", max_length=1024, truncation=True)\n",
        "  summary_ids = model.generate(input_ids, max_length=200, num_beams=5, length_penalty=2.5,num_return_sequences=3, early_stopping=True)\n",
        "\n",
        "  summary = tokenizer.decode(summary_ids[0], skip_special_tokens=True)\n",
        "\n",
        "  all_summaries += f\"{summary}\\n\\n\"\n",
        "\n",
        "  print(\"Generated Summary:\", summary)\n",
        "\n"
      ],
      "metadata": {
        "colab": {
          "base_uri": "https://localhost:8080/"
        },
        "id": "8eUsUXiYz3Y3",
        "outputId": "bfabf9ae-2402-473d-929f-d796c9ffaadd"
      },
      "execution_count": 50,
      "outputs": [
        {
          "output_type": "stream",
          "name": "stdout",
          "text": [
            "Generated Summary: The full amount of an endowment policy will not be paid if the insured person dies before the policy matures. No separate records are ordinarily kept of persons who come from Ireland to Great Britain. The number of insured workpeople registered as unemployed on the register of the Walworth Road (Borough) Employment Exchange on February.\n",
            "Generated Summary: asked the Minister of Transport whether his attention has been drawn to the number of outrages committed upon women in non-corridor trains. Asked the First Lord of the Admiralty how many men have received notice of discharge in the works departments and other departments, Devonport Dockyard.\n",
            "Generated Summary: I propose to lay a White Paper showing the full financial effect of any new Clause which may be introduced on behalf of the Government to take the place of Clause 4 of the present Unemployment Bill as introduced. When will it be laid, and shall we have ample notice both of the terms of the new Clause and of its financial effect before it is taken on the Floor of the House?: I shall give as long notice as possible.\n",
            "Generated Summary: When this country hands over a large number of her subjects to those who have been their opponents all their lives, I want to know is this Court to allow itself to be laughed at as Mr. Blythe laughed at it all through his speech? I am proud that the same law that is administered here and throughout the Dominions in the Privy Council should apply to her. I will conclude by assuring the Lord Privy Seal that there are men and women in South Wales who are looking to him.\n",
            "Generated Summary: The Minister of Labour has refused to accept the amendment to the Education Act. The amendment would see contributions to education paid on the strength of full-time attendance at instruction centres. The Minister has also refused to include agriculture among the insured occupations. The House of Lords voted in favour of the amendment by a majority of 48 to 17.\n",
            "Generated Summary: The women of this country have unanimously condemned the health Clauses of this Bill, because of their inability to increase the opportunity to develop the two services in which they are interested. The Queen herself has written saying that she is disturbed by the appalling increase of maternity fatalities. Approximately, ,  men and women in Scotland have become voluntary contributors under the Widows', Orphans', and Old Age Pensions Act in Glasgow and Scotland.\n",
            "Generated Summary: 565                 \"Great Britain will get free entry for her manufactures into the Dominions\"                 \"Australia cannot possibly make up the deficiency. Great Britain then, in any case, would have to pay more for her imports.\"                 \"Canada should lower her tariffs in order to let in Empire goods\"                 \"We are out for putting a tax on food\"\n",
            "Generated Summary: In view of these developments, His Majesty's Consul-General at Nanking has been instructed that, in the event of danger, he should at once order the withdrawal of women and children. Women and children either remained afloat or concentrated on the river front last night. Has any information been received to the effect that this situation is largely due to Soviet propaganda?: Will the right hon.Gentleman make a kindly suggestion to the Indian Government?:\n",
            "Generated Summary: asked the Minister of Transport whether his attention has been drawn to the number of outrages committed upon women in non-corridor trains. Asked the First Lord of the Admiralty how many men have received notice of discharge in the works departments and other departments, Devonport Dockyard.\n",
            "Generated Summary: Member for Harrow: We are entitled to ask the Minister of Labour, in all courtesy, if she can furnish us with some approximate estimate as to the result of the redrafting of Clause 4. Lady: I am not sure that I want to tie down all cases where the court of referees is not unanimous, and I trust the Minister will be able to see her way.\n"
          ]
        }
      ]
    },
    {
      "cell_type": "code",
      "source": [
        "output_file_path = \"/content/summaries.txt\"\n",
        "with open(output_file_path, \"w\", encoding=\"utf-8\") as file:\n",
        "    file.write(all_summaries)"
      ],
      "metadata": {
        "id": "8c0wG9OR7w9k"
      },
      "execution_count": 53,
      "outputs": []
    },
    {
      "cell_type": "code",
      "source": [],
      "metadata": {
        "id": "kqLb25pM73jN"
      },
      "execution_count": 53,
      "outputs": []
    }
  ]
}